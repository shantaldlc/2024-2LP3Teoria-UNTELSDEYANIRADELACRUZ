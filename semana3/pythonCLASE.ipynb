{
 "cells": [
  {
   "cell_type": "markdown",
   "id": "460b1bf2",
   "metadata": {},
   "source": [
    "# Semana 03"
   ]
  },
  {
   "cell_type": "markdown",
   "id": "c247aab6",
   "metadata": {},
   "source": [
    "TEMAS:\n",
    "    1. Números\n",
    "    2. Variables\n",
    "    3. Manejo de cadenas\n",
    "    4. Ingreso de datos por teclado\n",
    "    5. Opeadores"
   ]
  },
  {
   "cell_type": "code",
   "execution_count": 8,
   "id": "e6097267",
   "metadata": {},
   "outputs": [],
   "source": [
    "nombre = \"Shantal de la cruz\""
   ]
  },
  {
   "cell_type": "code",
   "execution_count": 9,
   "id": "e97cc9ba",
   "metadata": {},
   "outputs": [
    {
     "data": {
      "text/plain": [
       "'Shantal de la cruz'"
      ]
     },
     "execution_count": 9,
     "metadata": {},
     "output_type": "execute_result"
    }
   ],
   "source": [
    "nombre"
   ]
  },
  {
   "cell_type": "code",
   "execution_count": 10,
   "id": "043ef745",
   "metadata": {},
   "outputs": [],
   "source": [
    "Nacionalidad = \"peruano\""
   ]
  },
  {
   "cell_type": "code",
   "execution_count": 11,
   "id": "b506f8ab",
   "metadata": {},
   "outputs": [
    {
     "data": {
      "text/plain": [
       "'peruano'"
      ]
     },
     "execution_count": 11,
     "metadata": {},
     "output_type": "execute_result"
    }
   ],
   "source": [
    "Nacionalidad"
   ]
  },
  {
   "cell_type": "code",
   "execution_count": 13,
   "id": "bff08722",
   "metadata": {},
   "outputs": [],
   "source": [
    "datos_completos = nombre + \" es \" + Nacionalidad"
   ]
  },
  {
   "cell_type": "code",
   "execution_count": 14,
   "id": "86d030fe",
   "metadata": {},
   "outputs": [
    {
     "data": {
      "text/plain": [
       "'Shantal de la cruzesperuano'"
      ]
     },
     "execution_count": 14,
     "metadata": {},
     "output_type": "execute_result"
    }
   ],
   "source": [
    "datos_completos"
   ]
  },
  {
   "cell_type": "code",
   "execution_count": 15,
   "id": "8a723a87",
   "metadata": {},
   "outputs": [
    {
     "data": {
      "text/plain": [
       "'Shantal de la cruzesperuano'"
      ]
     },
     "execution_count": 15,
     "metadata": {},
     "output_type": "execute_result"
    }
   ],
   "source": [
    "datos_completos"
   ]
  },
  {
   "cell_type": "code",
   "execution_count": 16,
   "id": "e492b7b0",
   "metadata": {},
   "outputs": [],
   "source": [
    "datos_completos = nombre + \" es \" + Nacionalidad"
   ]
  },
  {
   "cell_type": "code",
   "execution_count": 17,
   "id": "33db9900",
   "metadata": {},
   "outputs": [
    {
     "data": {
      "text/plain": [
       "'Shantal de la cruz es peruano'"
      ]
     },
     "execution_count": 17,
     "metadata": {},
     "output_type": "execute_result"
    }
   ],
   "source": [
    "datos_completos"
   ]
  },
  {
   "cell_type": "code",
   "execution_count": 18,
   "id": "fbeb0246",
   "metadata": {},
   "outputs": [],
   "source": [
    "#Para saber el tipo de datos de una variable urilizamos type"
   ]
  },
  {
   "cell_type": "code",
   "execution_count": 19,
   "id": "56479a76",
   "metadata": {},
   "outputs": [
    {
     "data": {
      "text/plain": [
       "str"
      ]
     },
     "execution_count": 19,
     "metadata": {},
     "output_type": "execute_result"
    }
   ],
   "source": [
    "type(nombre)"
   ]
  },
  {
   "cell_type": "code",
   "execution_count": 20,
   "id": "96195350",
   "metadata": {},
   "outputs": [],
   "source": [
    "edad = 45"
   ]
  },
  {
   "cell_type": "code",
   "execution_count": 21,
   "id": "80b6e11d",
   "metadata": {},
   "outputs": [
    {
     "data": {
      "text/plain": [
       "45"
      ]
     },
     "execution_count": 21,
     "metadata": {},
     "output_type": "execute_result"
    }
   ],
   "source": [
    "edad"
   ]
  },
  {
   "cell_type": "code",
   "execution_count": 22,
   "id": "4d14f886",
   "metadata": {},
   "outputs": [
    {
     "data": {
      "text/plain": [
       "int"
      ]
     },
     "execution_count": 22,
     "metadata": {},
     "output_type": "execute_result"
    }
   ],
   "source": [
    "type(edad)"
   ]
  },
  {
   "cell_type": "code",
   "execution_count": 23,
   "id": "6fbe6a3f",
   "metadata": {},
   "outputs": [],
   "source": [
    "talla = 1.67"
   ]
  },
  {
   "cell_type": "code",
   "execution_count": 24,
   "id": "c36a609e",
   "metadata": {},
   "outputs": [
    {
     "data": {
      "text/plain": [
       "float"
      ]
     },
     "execution_count": 24,
     "metadata": {},
     "output_type": "execute_result"
    }
   ],
   "source": [
    "type(talla)"
   ]
  },
  {
   "cell_type": "code",
   "execution_count": 25,
   "id": "e7e73f32",
   "metadata": {},
   "outputs": [],
   "source": [
    "#Para convertir un numero a cadena usamos str()"
   ]
  },
  {
   "cell_type": "code",
   "execution_count": 26,
   "id": "90b1e8e3",
   "metadata": {},
   "outputs": [
    {
     "data": {
      "text/plain": [
       "100"
      ]
     },
     "execution_count": 26,
     "metadata": {},
     "output_type": "execute_result"
    }
   ],
   "source": [
    "numero = 100\n",
    "cadena = str(numero)\n",
    "numero"
   ]
  },
  {
   "cell_type": "code",
   "execution_count": 27,
   "id": "1e9426e0",
   "metadata": {},
   "outputs": [
    {
     "data": {
      "text/plain": [
       "str"
      ]
     },
     "execution_count": 27,
     "metadata": {},
     "output_type": "execute_result"
    }
   ],
   "source": [
    "type (cadena)"
   ]
  },
  {
   "cell_type": "code",
   "execution_count": 28,
   "id": "81153649",
   "metadata": {},
   "outputs": [
    {
     "data": {
      "text/plain": [
       "50"
      ]
     },
     "execution_count": 28,
     "metadata": {},
     "output_type": "execute_result"
    }
   ],
   "source": [
    "#para convertir una cadena a numerico \n",
    "cadena2 = \"50\"\n",
    "numero2 = int(cadena2)\n",
    "numero2"
   ]
  },
  {
   "cell_type": "code",
   "execution_count": 29,
   "id": "2e8e2911",
   "metadata": {},
   "outputs": [
    {
     "data": {
      "text/plain": [
       "int"
      ]
     },
     "execution_count": 29,
     "metadata": {},
     "output_type": "execute_result"
    }
   ],
   "source": [
    "type(numero2)"
   ]
  },
  {
   "cell_type": "code",
   "execution_count": 30,
   "id": "3d43db96",
   "metadata": {},
   "outputs": [
    {
     "data": {
      "text/plain": [
       "50.0"
      ]
     },
     "execution_count": 30,
     "metadata": {},
     "output_type": "execute_result"
    }
   ],
   "source": [
    "#Para convertir una cadena a float \n",
    "numero3 = float(cadena2)\n",
    "numero3"
   ]
  },
  {
   "cell_type": "code",
   "execution_count": 31,
   "id": "d134985f",
   "metadata": {},
   "outputs": [
    {
     "data": {
      "text/plain": [
       "'Universidad Nacional Tecnologica de Lima Sur'"
      ]
     },
     "execution_count": 31,
     "metadata": {},
     "output_type": "execute_result"
    }
   ],
   "source": [
    "cadena = \"Universidad Nacional Tecnologica de Lima Sur\"\n",
    "cadena"
   ]
  },
  {
   "cell_type": "code",
   "execution_count": 32,
   "id": "bdc8c7c3",
   "metadata": {},
   "outputs": [],
   "source": [
    "#Universidad Nacional Tecnologica de Lima Sur\n",
    "#0123456789................................."
   ]
  },
  {
   "cell_type": "code",
   "execution_count": 33,
   "id": "d04c6570",
   "metadata": {},
   "outputs": [
    {
     "data": {
      "text/plain": [
       "'r'"
      ]
     },
     "execution_count": 33,
     "metadata": {},
     "output_type": "execute_result"
    }
   ],
   "source": [
    "cadena[5]"
   ]
  },
  {
   "cell_type": "code",
   "execution_count": 34,
   "id": "9d0a2490",
   "metadata": {},
   "outputs": [
    {
     "data": {
      "text/plain": [
       "'N'"
      ]
     },
     "execution_count": 34,
     "metadata": {},
     "output_type": "execute_result"
    }
   ],
   "source": [
    "cadena[12]"
   ]
  },
  {
   "cell_type": "code",
   "execution_count": 35,
   "id": "196e06be",
   "metadata": {},
   "outputs": [
    {
     "data": {
      "text/plain": [
       "'a'"
      ]
     },
     "execution_count": 35,
     "metadata": {},
     "output_type": "execute_result"
    }
   ],
   "source": [
    "cadena[-5]"
   ]
  },
  {
   "cell_type": "code",
   "execution_count": 36,
   "id": "3c177593",
   "metadata": {},
   "outputs": [
    {
     "data": {
      "text/plain": [
       "'versida'"
      ]
     },
     "execution_count": 36,
     "metadata": {},
     "output_type": "execute_result"
    }
   ],
   "source": [
    "#subacadena como un rango\n",
    "cadena[3:10]"
   ]
  },
  {
   "cell_type": "code",
   "execution_count": 37,
   "id": "a97b0179",
   "metadata": {},
   "outputs": [
    {
     "data": {
      "text/plain": [
       "44"
      ]
     },
     "execution_count": 37,
     "metadata": {},
     "output_type": "execute_result"
    }
   ],
   "source": [
    "len(cadena)"
   ]
  },
  {
   "cell_type": "code",
   "execution_count": 39,
   "id": "c761c77e",
   "metadata": {},
   "outputs": [
    {
     "data": {
      "text/plain": [
       "'UNIVERSIDAD NACIONAL TECNOLOGICA DE LIMA SUR'"
      ]
     },
     "execution_count": 39,
     "metadata": {},
     "output_type": "execute_result"
    }
   ],
   "source": [
    "#Mayuscula \n",
    "cadena.upper()"
   ]
  },
  {
   "cell_type": "code",
   "execution_count": 40,
   "id": "5aa8c5b1",
   "metadata": {},
   "outputs": [
    {
     "data": {
      "text/plain": [
       "'universidad nacional tecnologica de lima sur'"
      ]
     },
     "execution_count": 40,
     "metadata": {},
     "output_type": "execute_result"
    }
   ],
   "source": [
    "#minúscula\n",
    "cadena.lower()"
   ]
  },
  {
   "cell_type": "code",
   "execution_count": 42,
   "id": "4aecbfa0",
   "metadata": {},
   "outputs": [
    {
     "data": {
      "text/plain": [
       "['Universidad', 'Nacional', 'Tecnologica', 'de', 'Lima', 'Sur']"
      ]
     },
     "execution_count": 42,
     "metadata": {},
     "output_type": "execute_result"
    }
   ],
   "source": [
    "#separar por espacios/sílabas\n",
    "cadena.split()"
   ]
  },
  {
   "cell_type": "code",
   "execution_count": 43,
   "id": "36ef7c2b",
   "metadata": {},
   "outputs": [
    {
     "data": {
      "text/plain": [
       "['Universid', 'd N', 'cion', 'l Tecnologic', ' de Lim', ' Sur']"
      ]
     },
     "execution_count": 43,
     "metadata": {},
     "output_type": "execute_result"
    }
   ],
   "source": [
    "#generar una lista apartir de una cadena utilizando como criterio de separación la letr \"a\"\n",
    "cadena.split(\"a\")"
   ]
  },
  {
   "cell_type": "code",
   "execution_count": 46,
   "id": "c4bd2171",
   "metadata": {},
   "outputs": [
    {
     "name": "stdout",
     "output_type": "stream",
     "text": [
      "Buenas tardes Shantal De la cruz\n"
     ]
    }
   ],
   "source": [
    "#concatenar\n",
    "nombresito =\"Shantal De la cruz\"\n",
    "print(\"Buenas tardes \"+ nombresito)"
   ]
  },
  {
   "cell_type": "code",
   "execution_count": 48,
   "id": "b87dec14",
   "metadata": {},
   "outputs": [
    {
     "name": "stdout",
     "output_type": "stream",
     "text": [
      "Hola Daniel Falcon ya sé que tienes 25 años\n"
     ]
    }
   ],
   "source": [
    "#Utilizando el .format(), evitamos completar uno por uno, se autocompleta solo\n",
    "nombre= \"Daniel Falcon\"\n",
    "edad=25\n",
    "print(\"Hola {} ya sé que tienes {} años\".format(nombre,edad))"
   ]
  },
  {
   "cell_type": "code",
   "execution_count": 50,
   "id": "2b5b855f",
   "metadata": {},
   "outputs": [
    {
     "name": "stdout",
     "output_type": "stream",
     "text": [
      "10/3 es igual a 3.3333333333333335\n",
      "10/3 es igual a 3.333\n"
     ]
    }
   ],
   "source": [
    "#Dar formato a números con muchos decimales \n",
    "resultado = 10/3\n",
    "print(\"10/3 es igual a {}\".format(resultado))\n",
    "print(\"10/3 es igual a {r:1.3f}\".format(r=resultado)) #r:1.3f es la cantidad de decimales que deseo"
   ]
  },
  {
   "cell_type": "code",
   "execution_count": 52,
   "id": "b8d694d8",
   "metadata": {},
   "outputs": [
    {
     "name": "stdout",
     "output_type": "stream",
     "text": [
      "¿Cuál es tu nombre?\n",
      "Shantal\n",
      "Hola Shantal\n"
     ]
    }
   ],
   "source": [
    "#Función input()\n",
    "print(\"¿Cuál es tu nombre?\")\n",
    "nombre = input()\n",
    "print(\"Hola \"+ nombre)"
   ]
  },
  {
   "cell_type": "code",
   "execution_count": 53,
   "id": "9725c298",
   "metadata": {},
   "outputs": [
    {
     "name": "stdout",
     "output_type": "stream",
     "text": [
      "Número 01: \n",
      "20\n",
      "Número 02: \n",
      "562\n",
      "El resultado es 582\n"
     ]
    }
   ],
   "source": [
    "print(\"Número 01: \")\n",
    "numero01= input()\n",
    "print(\"Número 02: \")\n",
    "numero02= input()\n",
    "numero03 = int(numero01) + int (numero02)\n",
    "print(f\"El resultado es {numero03}\")"
   ]
  },
  {
   "cell_type": "markdown",
   "id": "773a80ab",
   "metadata": {},
   "source": [
    "5. Opeadores"
   ]
  },
  {
   "cell_type": "code",
   "execution_count": null,
   "id": "42234214",
   "metadata": {},
   "outputs": [],
   "source": [
    "#Operadored de asignación +, -"
   ]
  }
 ],
 "metadata": {
  "kernelspec": {
   "display_name": "Python 3 (ipykernel)",
   "language": "python",
   "name": "python3"
  },
  "language_info": {
   "codemirror_mode": {
    "name": "ipython",
    "version": 3
   },
   "file_extension": ".py",
   "mimetype": "text/x-python",
   "name": "python",
   "nbconvert_exporter": "python",
   "pygments_lexer": "ipython3",
   "version": "3.9.13"
  }
 },
 "nbformat": 4,
 "nbformat_minor": 5
}
